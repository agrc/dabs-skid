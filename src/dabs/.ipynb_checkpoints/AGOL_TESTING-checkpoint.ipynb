{
 "cells": [
  {
   "cell_type": "code",
   "execution_count": null,
   "id": "a80000a1",
   "metadata": {},
   "outputs": [],
   "source": [
    "import json\n",
    "import logging\n",
    "import sys\n",
    "from datetime import datetime\n",
    "from pathlib import Path\n",
    "from tempfile import TemporaryDirectory\n",
    "from types import SimpleNamespace\n",
    "\n",
    "import arcgis\n",
    "from palletjack import (FeatureServiceInlineUpdater, GSheetLoader)\n",
    "from palletjack.transform import APIGeocoder\n",
    "from supervisor.message_handlers import SendGridHandler\n",
    "from supervisor.models import MessageDetails, Supervisor"
   ]
  },
  {
   "cell_type": "code",
   "execution_count": null,
   "id": "23d421c9",
   "metadata": {},
   "outputs": [],
   "source": []
  }
 ],
 "metadata": {
  "kernelspec": {
   "display_name": "Python 3 (ipykernel)",
   "language": "python",
   "name": "python3"
  },
  "language_info": {
   "codemirror_mode": {
    "name": "ipython",
    "version": 3
   },
   "file_extension": ".py",
   "mimetype": "text/x-python",
   "name": "python",
   "nbconvert_exporter": "python",
   "pygments_lexer": "ipython3",
   "version": "3.9.11"
  }
 },
 "nbformat": 4,
 "nbformat_minor": 5
}
